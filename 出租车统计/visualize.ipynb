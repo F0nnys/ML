{
 "cells": [
  {
   "cell_type": "code",
   "execution_count": 55,
   "metadata": {},
   "outputs": [],
   "source": [
    "from pandas_highcharts.display import display_charts\n",
    "from pandas_highcharts.core import serialize\n",
    "import pandas as pd\n",
    "import urllib.request\n",
    "import json"
   ]
  },
  {
   "cell_type": "code",
   "execution_count": 2,
   "metadata": {},
   "outputs": [],
   "source": [
    "data = pd.read_csv(\"G://gongxiang//busyZones.csv\",header=None,names=(\"area\",\"counts\"))"
   ]
  },
  {
   "cell_type": "code",
   "execution_count": 10,
   "metadata": {},
   "outputs": [
    {
     "data": {
      "text/html": [
       "<div>\n",
       "<style>\n",
       "    .dataframe thead tr:only-child th {\n",
       "        text-align: right;\n",
       "    }\n",
       "\n",
       "    .dataframe thead th {\n",
       "        text-align: left;\n",
       "    }\n",
       "\n",
       "    .dataframe tbody tr th {\n",
       "        vertical-align: top;\n",
       "    }\n",
       "</style>\n",
       "<table border=\"1\" class=\"dataframe\">\n",
       "  <thead>\n",
       "    <tr style=\"text-align: right;\">\n",
       "      <th></th>\n",
       "      <th>area</th>\n",
       "      <th>counts</th>\n",
       "    </tr>\n",
       "  </thead>\n",
       "  <tbody>\n",
       "    <tr>\n",
       "      <th>0</th>\n",
       "      <td>1</td>\n",
       "      <td>721</td>\n",
       "    </tr>\n",
       "    <tr>\n",
       "      <th>1</th>\n",
       "      <td>6</td>\n",
       "      <td>67</td>\n",
       "    </tr>\n",
       "    <tr>\n",
       "      <th>2</th>\n",
       "      <td>3</td>\n",
       "      <td>29451</td>\n",
       "    </tr>\n",
       "    <tr>\n",
       "      <th>3</th>\n",
       "      <td>5</td>\n",
       "      <td>40994</td>\n",
       "    </tr>\n",
       "    <tr>\n",
       "      <th>4</th>\n",
       "      <td>9</td>\n",
       "      <td>18575</td>\n",
       "    </tr>\n",
       "    <tr>\n",
       "      <th>5</th>\n",
       "      <td>4</td>\n",
       "      <td>1742</td>\n",
       "    </tr>\n",
       "    <tr>\n",
       "      <th>6</th>\n",
       "      <td>8</td>\n",
       "      <td>3296</td>\n",
       "    </tr>\n",
       "    <tr>\n",
       "      <th>7</th>\n",
       "      <td>7</td>\n",
       "      <td>13837</td>\n",
       "    </tr>\n",
       "    <tr>\n",
       "      <th>8</th>\n",
       "      <td>2</td>\n",
       "      <td>7015</td>\n",
       "    </tr>\n",
       "    <tr>\n",
       "      <th>9</th>\n",
       "      <td>0</td>\n",
       "      <td>47458</td>\n",
       "    </tr>\n",
       "  </tbody>\n",
       "</table>\n",
       "</div>"
      ],
      "text/plain": [
       "   area  counts\n",
       "0     1     721\n",
       "1     6      67\n",
       "2     3   29451\n",
       "3     5   40994\n",
       "4     9   18575\n",
       "5     4    1742\n",
       "6     8    3296\n",
       "7     7   13837\n",
       "8     2    7015\n",
       "9     0   47458"
      ]
     },
     "execution_count": 10,
     "metadata": {},
     "output_type": "execute_result"
    }
   ],
   "source": [
    "data"
   ]
  },
  {
   "cell_type": "code",
   "execution_count": 5,
   "metadata": {},
   "outputs": [
    {
     "data": {
      "text/html": [
       "<div id=\"chart_idFJzLreOJ\"</div>\n",
       "    <script type=\"text/javascript\">new Highcharts.Chart({\"chart\":{\"renderTo\":\"chart_idFJzLreOJ\"},\"legend\":{\"enabled\":true},\"series\":[{\"name\":\"area\",\"yAxis\":0,\"data\":[[0,1],[1,6],[2,3],[3,5],[4,9],[5,4],[6,8],[7,7],[8,2],[9,0]]},{\"name\":\"counts\",\"yAxis\":0,\"data\":[[0,721],[1,67],[2,29451],[3,40994],[4,18575],[5,1742],[6,3296],[7,13837],[8,7015],[9,47458]]}],\"title\":{\"text\":\"\\u533a\\u57df\\u6253\\u8f66\\u6b21\\u6570\"},\"xAxis\":{},\"yAxis\":[{}]});</script>"
      ],
      "text/plain": [
       "<IPython.core.display.HTML object>"
      ]
     },
     "metadata": {},
     "output_type": "display_data"
    }
   ],
   "source": [
    "display_charts(data,title=\"区域打车次数\")"
   ]
  },
  {
   "cell_type": "code",
   "execution_count": 26,
   "metadata": {},
   "outputs": [],
   "source": [
    "pre = pd.read_csv(\"G://gongxiang//kmresult2.csv\",header=None,names=(\"lon\",\"lat\"))"
   ]
  },
  {
   "cell_type": "code",
   "execution_count": 27,
   "metadata": {},
   "outputs": [],
   "source": [
    "pre[\"area\"] = pre.index"
   ]
  },
  {
   "cell_type": "code",
   "execution_count": 28,
   "metadata": {},
   "outputs": [],
   "source": [
    "df = pd.merge(data,pre,on=\"area\",how=\"left\")"
   ]
  },
  {
   "cell_type": "code",
   "execution_count": 32,
   "metadata": {},
   "outputs": [],
   "source": [
    "def foundloc(lon,lat):\n",
    "    url=\"http://api.map.baidu.com/geocoder/v2/?location=%f,%f&output=json&ak=Yrf32LVk9DEHOYchZAQlG9nFICRTst5V\"%(lat,lon)\n",
    "    req = urllib.request.urlopen(url)#JSON格式的返回数据\n",
    "    res = req.read().decode(\"utf-8\") #将其他编码的字符串解码成unicode\n",
    "    temp = json.loads(res)\n",
    "    return temp[\"result\"][\"formatted_address\"]"
   ]
  },
  {
   "cell_type": "code",
   "execution_count": 34,
   "metadata": {},
   "outputs": [],
   "source": [
    "lon = list(df[\"lon\"])"
   ]
  },
  {
   "cell_type": "code",
   "execution_count": 36,
   "metadata": {},
   "outputs": [],
   "source": [
    "lat = list(df[\"lat\"])"
   ]
  },
  {
   "cell_type": "code",
   "execution_count": 63,
   "metadata": {},
   "outputs": [],
   "source": [
    "situation = zip(lon,lat)"
   ]
  },
  {
   "cell_type": "code",
   "execution_count": 64,
   "metadata": {},
   "outputs": [],
   "source": [
    "situa = []"
   ]
  },
  {
   "cell_type": "code",
   "execution_count": 65,
   "metadata": {},
   "outputs": [],
   "source": [
    "for i in situation:\n",
    "    situa.append(foundloc(i[0],i[1])[6:-1])"
   ]
  },
  {
   "cell_type": "code",
   "execution_count": 77,
   "metadata": {},
   "outputs": [],
   "source": [
    "df[\"name\"] = situa"
   ]
  },
  {
   "cell_type": "code",
   "execution_count": 92,
   "metadata": {},
   "outputs": [
    {
     "data": {
      "text/html": [
       "<div>\n",
       "<style>\n",
       "    .dataframe thead tr:only-child th {\n",
       "        text-align: right;\n",
       "    }\n",
       "\n",
       "    .dataframe thead th {\n",
       "        text-align: left;\n",
       "    }\n",
       "\n",
       "    .dataframe tbody tr th {\n",
       "        vertical-align: top;\n",
       "    }\n",
       "</style>\n",
       "<table border=\"1\" class=\"dataframe\">\n",
       "  <thead>\n",
       "    <tr style=\"text-align: right;\">\n",
       "      <th></th>\n",
       "      <th>area</th>\n",
       "      <th>counts</th>\n",
       "      <th>lon</th>\n",
       "      <th>lat</th>\n",
       "      <th>name</th>\n",
       "    </tr>\n",
       "  </thead>\n",
       "  <tbody>\n",
       "    <tr>\n",
       "      <th>0</th>\n",
       "      <td>1</td>\n",
       "      <td>721</td>\n",
       "      <td>103.629988</td>\n",
       "      <td>30.926785</td>\n",
       "      <td>都江堰市中大街4</td>\n",
       "    </tr>\n",
       "    <tr>\n",
       "      <th>1</th>\n",
       "      <td>6</td>\n",
       "      <td>67</td>\n",
       "      <td>103.693210</td>\n",
       "      <td>30.595090</td>\n",
       "      <td>崇州市滨河</td>\n",
       "    </tr>\n",
       "    <tr>\n",
       "      <th>2</th>\n",
       "      <td>3</td>\n",
       "      <td>29451</td>\n",
       "      <td>104.070300</td>\n",
       "      <td>30.615314</td>\n",
       "      <td>武侯区火车南站西路8</td>\n",
       "    </tr>\n",
       "    <tr>\n",
       "      <th>3</th>\n",
       "      <td>5</td>\n",
       "      <td>40994</td>\n",
       "      <td>104.020308</td>\n",
       "      <td>30.664854</td>\n",
       "      <td>青羊区家园</td>\n",
       "    </tr>\n",
       "    <tr>\n",
       "      <th>4</th>\n",
       "      <td>9</td>\n",
       "      <td>18575</td>\n",
       "      <td>104.078418</td>\n",
       "      <td>30.704787</td>\n",
       "      <td>金牛区站北东街123</td>\n",
       "    </tr>\n",
       "    <tr>\n",
       "      <th>5</th>\n",
       "      <td>4</td>\n",
       "      <td>1742</td>\n",
       "      <td>103.891679</td>\n",
       "      <td>30.728849</td>\n",
       "      <td>温江</td>\n",
       "    </tr>\n",
       "    <tr>\n",
       "      <th>6</th>\n",
       "      <td>8</td>\n",
       "      <td>3296</td>\n",
       "      <td>104.057596</td>\n",
       "      <td>30.528280</td>\n",
       "      <td>双流县滨河路2</td>\n",
       "    </tr>\n",
       "    <tr>\n",
       "      <th>7</th>\n",
       "      <td>7</td>\n",
       "      <td>13837</td>\n",
       "      <td>104.142686</td>\n",
       "      <td>30.637684</td>\n",
       "      <td>成华区雅砻江</td>\n",
       "    </tr>\n",
       "    <tr>\n",
       "      <th>8</th>\n",
       "      <td>2</td>\n",
       "      <td>7015</td>\n",
       "      <td>103.983156</td>\n",
       "      <td>30.587366</td>\n",
       "      <td>武侯区凉港三</td>\n",
       "    </tr>\n",
       "    <tr>\n",
       "      <th>9</th>\n",
       "      <td>0</td>\n",
       "      <td>47458</td>\n",
       "      <td>104.078021</td>\n",
       "      <td>30.656352</td>\n",
       "      <td>锦江区锦兴路38</td>\n",
       "    </tr>\n",
       "  </tbody>\n",
       "</table>\n",
       "</div>"
      ],
      "text/plain": [
       "   area  counts         lon        lat        name\n",
       "0     1     721  103.629988  30.926785    都江堰市中大街4\n",
       "1     6      67  103.693210  30.595090       崇州市滨河\n",
       "2     3   29451  104.070300  30.615314  武侯区火车南站西路8\n",
       "3     5   40994  104.020308  30.664854       青羊区家园\n",
       "4     9   18575  104.078418  30.704787  金牛区站北东街123\n",
       "5     4    1742  103.891679  30.728849          温江\n",
       "6     8    3296  104.057596  30.528280     双流县滨河路2\n",
       "7     7   13837  104.142686  30.637684      成华区雅砻江\n",
       "8     2    7015  103.983156  30.587366      武侯区凉港三\n",
       "9     0   47458  104.078021  30.656352    锦江区锦兴路38"
      ]
     },
     "execution_count": 92,
     "metadata": {},
     "output_type": "execute_result"
    }
   ],
   "source": [
    "df"
   ]
  },
  {
   "cell_type": "code",
   "execution_count": 78,
   "metadata": {},
   "outputs": [],
   "source": [
    "df1 = df[[\"counts\",\"name\"]]"
   ]
  },
  {
   "cell_type": "code",
   "execution_count": 89,
   "metadata": {},
   "outputs": [
    {
     "data": {
      "text/html": [
       "<div>\n",
       "<style>\n",
       "    .dataframe thead tr:only-child th {\n",
       "        text-align: right;\n",
       "    }\n",
       "\n",
       "    .dataframe thead th {\n",
       "        text-align: left;\n",
       "    }\n",
       "\n",
       "    .dataframe tbody tr th {\n",
       "        vertical-align: top;\n",
       "    }\n",
       "</style>\n",
       "<table border=\"1\" class=\"dataframe\">\n",
       "  <thead>\n",
       "    <tr style=\"text-align: right;\">\n",
       "      <th></th>\n",
       "      <th>counts</th>\n",
       "      <th>name</th>\n",
       "    </tr>\n",
       "  </thead>\n",
       "  <tbody>\n",
       "    <tr>\n",
       "      <th>0</th>\n",
       "      <td>721</td>\n",
       "      <td>都江堰市中大街4</td>\n",
       "    </tr>\n",
       "    <tr>\n",
       "      <th>1</th>\n",
       "      <td>67</td>\n",
       "      <td>崇州市滨河</td>\n",
       "    </tr>\n",
       "    <tr>\n",
       "      <th>2</th>\n",
       "      <td>29451</td>\n",
       "      <td>武侯区火车南站西路8</td>\n",
       "    </tr>\n",
       "    <tr>\n",
       "      <th>3</th>\n",
       "      <td>40994</td>\n",
       "      <td>青羊区家园</td>\n",
       "    </tr>\n",
       "    <tr>\n",
       "      <th>4</th>\n",
       "      <td>18575</td>\n",
       "      <td>金牛区站北东街123</td>\n",
       "    </tr>\n",
       "    <tr>\n",
       "      <th>5</th>\n",
       "      <td>1742</td>\n",
       "      <td>温江</td>\n",
       "    </tr>\n",
       "    <tr>\n",
       "      <th>6</th>\n",
       "      <td>3296</td>\n",
       "      <td>双流县滨河路2</td>\n",
       "    </tr>\n",
       "    <tr>\n",
       "      <th>7</th>\n",
       "      <td>13837</td>\n",
       "      <td>成华区雅砻江</td>\n",
       "    </tr>\n",
       "    <tr>\n",
       "      <th>8</th>\n",
       "      <td>7015</td>\n",
       "      <td>武侯区凉港三</td>\n",
       "    </tr>\n",
       "    <tr>\n",
       "      <th>9</th>\n",
       "      <td>47458</td>\n",
       "      <td>锦江区锦兴路38</td>\n",
       "    </tr>\n",
       "  </tbody>\n",
       "</table>\n",
       "</div>"
      ],
      "text/plain": [
       "   counts        name\n",
       "0     721    都江堰市中大街4\n",
       "1      67       崇州市滨河\n",
       "2   29451  武侯区火车南站西路8\n",
       "3   40994       青羊区家园\n",
       "4   18575  金牛区站北东街123\n",
       "5    1742          温江\n",
       "6    3296     双流县滨河路2\n",
       "7   13837      成华区雅砻江\n",
       "8    7015      武侯区凉港三\n",
       "9   47458    锦江区锦兴路38"
      ]
     },
     "execution_count": 89,
     "metadata": {},
     "output_type": "execute_result"
    }
   ],
   "source": [
    "df1"
   ]
  },
  {
   "cell_type": "code",
   "execution_count": 90,
   "metadata": {},
   "outputs": [],
   "source": [
    "df1 = df1.set_index(\"name\")"
   ]
  },
  {
   "cell_type": "code",
   "execution_count": 91,
   "metadata": {},
   "outputs": [
    {
     "data": {
      "text/html": [
       "<div id=\"chart_idYpFryWyo\"</div>\n",
       "    <script type=\"text/javascript\">new Highcharts.Chart({\"chart\":{\"renderTo\":\"chart_idYpFryWyo\"},\"legend\":{\"enabled\":true},\"series\":[{\"name\":\"counts\",\"yAxis\":0,\"data\":[[\"\\u90fd\\u6c5f\\u5830\\u5e02\\u4e2d\\u5927\\u88574\",721],[\"\\u5d07\\u5dde\\u5e02\\u6ee8\\u6cb3\",67],[\"\\u6b66\\u4faf\\u533a\\u706b\\u8f66\\u5357\\u7ad9\\u897f\\u8def8\",29451],[\"\\u9752\\u7f8a\\u533a\\u5bb6\\u56ed\",40994],[\"\\u91d1\\u725b\\u533a\\u7ad9\\u5317\\u4e1c\\u8857123\",18575],[\"\\u6e29\\u6c5f\",1742],[\"\\u53cc\\u6d41\\u53bf\\u6ee8\\u6cb3\\u8def2\",3296],[\"\\u6210\\u534e\\u533a\\u96c5\\u783b\\u6c5f\",13837],[\"\\u6b66\\u4faf\\u533a\\u51c9\\u6e2f\\u4e09\",7015],[\"\\u9526\\u6c5f\\u533a\\u9526\\u5174\\u8def38\",47458]]}],\"title\":{\"text\":\"\\u533a\\u57df\\u6253\\u8f66\\u6b21\\u6570\"},\"xAxis\":{\"title\":{\"text\":\"name\"},\"categories\":[\"\\u90fd\\u6c5f\\u5830\\u5e02\\u4e2d\\u5927\\u88574\",\"\\u5d07\\u5dde\\u5e02\\u6ee8\\u6cb3\",\"\\u6b66\\u4faf\\u533a\\u706b\\u8f66\\u5357\\u7ad9\\u897f\\u8def8\",\"\\u9752\\u7f8a\\u533a\\u5bb6\\u56ed\",\"\\u91d1\\u725b\\u533a\\u7ad9\\u5317\\u4e1c\\u8857123\",\"\\u6e29\\u6c5f\",\"\\u53cc\\u6d41\\u53bf\\u6ee8\\u6cb3\\u8def2\",\"\\u6210\\u534e\\u533a\\u96c5\\u783b\\u6c5f\",\"\\u6b66\\u4faf\\u533a\\u51c9\\u6e2f\\u4e09\",\"\\u9526\\u6c5f\\u533a\\u9526\\u5174\\u8def38\"]},\"yAxis\":[{}]});</script>"
      ],
      "text/plain": [
       "<IPython.core.display.HTML object>"
      ]
     },
     "metadata": {},
     "output_type": "display_data"
    }
   ],
   "source": [
    "display_charts(df1,title=\"区域打车次数\")"
   ]
  },
  {
   "cell_type": "code",
   "execution_count": 103,
   "metadata": {},
   "outputs": [
    {
     "data": {
      "text/html": [
       "<div id=\"chart_idDaRGwmkG\"</div>\n",
       "    <script type=\"text/javascript\">new Highcharts.Chart({\"chart\":{\"renderTo\":\"chart_idDaRGwmkG\",\"type\":\"pie\"},\"legend\":{\"enabled\":true},\"series\":[{\"name\":\"counts\",\"yAxis\":0,\"data\":[[\"\\u90fd\\u6c5f\\u5830\\u5e02\\u4e2d\\u5927\\u88574\",721],[\"\\u5d07\\u5dde\\u5e02\\u6ee8\\u6cb3\",67],[\"\\u6b66\\u4faf\\u533a\\u706b\\u8f66\\u5357\\u7ad9\\u897f\\u8def8\",29451],[\"\\u9752\\u7f8a\\u533a\\u5bb6\\u56ed\",40994],[\"\\u91d1\\u725b\\u533a\\u7ad9\\u5317\\u4e1c\\u8857123\",18575],[\"\\u6e29\\u6c5f\",1742],[\"\\u53cc\\u6d41\\u53bf\\u6ee8\\u6cb3\\u8def2\",3296],[\"\\u6210\\u534e\\u533a\\u96c5\\u783b\\u6c5f\",13837],[\"\\u6b66\\u4faf\\u533a\\u51c9\\u6e2f\\u4e09\",7015],[\"\\u9526\\u6c5f\\u533a\\u9526\\u5174\\u8def38\",47458]]}],\"title\":{\"text\":\"Angel Deals By Sector\"},\"tooltip\":{\"pointFormat\":\"{series.name}: <b>{point.percentage:.1f}%<\\/b>\"},\"xAxis\":{\"title\":{\"text\":\"name\"},\"categories\":[\"\\u90fd\\u6c5f\\u5830\\u5e02\\u4e2d\\u5927\\u88574\",\"\\u5d07\\u5dde\\u5e02\\u6ee8\\u6cb3\",\"\\u6b66\\u4faf\\u533a\\u706b\\u8f66\\u5357\\u7ad9\\u897f\\u8def8\",\"\\u9752\\u7f8a\\u533a\\u5bb6\\u56ed\",\"\\u91d1\\u725b\\u533a\\u7ad9\\u5317\\u4e1c\\u8857123\",\"\\u6e29\\u6c5f\",\"\\u53cc\\u6d41\\u53bf\\u6ee8\\u6cb3\\u8def2\",\"\\u6210\\u534e\\u533a\\u96c5\\u783b\\u6c5f\",\"\\u6b66\\u4faf\\u533a\\u51c9\\u6e2f\\u4e09\",\"\\u9526\\u6c5f\\u533a\\u9526\\u5174\\u8def38\"]},\"yAxis\":[{}]});</script>"
      ],
      "text/plain": [
       "<IPython.core.display.HTML object>"
      ]
     },
     "metadata": {},
     "output_type": "display_data"
    }
   ],
   "source": [
    "display_charts(df1, kind='pie', y=['counts'], title='Angel Deals By Sector', tooltip={'pointFormat': '{series.name}: <b>{point.percentage:.1f}%</b>'})"
   ]
  },
  {
   "cell_type": "code",
   "execution_count": null,
   "metadata": {},
   "outputs": [],
   "source": []
  }
 ],
 "metadata": {
  "kernelspec": {
   "display_name": "Python 3",
   "language": "python",
   "name": "python3"
  },
  "language_info": {
   "codemirror_mode": {
    "name": "ipython",
    "version": 3
   },
   "file_extension": ".py",
   "mimetype": "text/x-python",
   "name": "python",
   "nbconvert_exporter": "python",
   "pygments_lexer": "ipython3",
   "version": "3.6.2"
  }
 },
 "nbformat": 4,
 "nbformat_minor": 2
}
